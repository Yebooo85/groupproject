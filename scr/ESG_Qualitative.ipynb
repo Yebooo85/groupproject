{
 "cells": [
  {
   "cell_type": "code",
   "execution_count": 7,
   "metadata": {},
   "outputs": [],
   "source": [
    "file = '../txt/AML.txt'\n",
    "outputfile = '../output_metric/Qualitative_metrics.csv'"
   ]
  },
  {
   "cell_type": "code",
   "execution_count": null,
   "metadata": {},
   "outputs": [],
   "source": [
    "# 处理\n",
    "import pandas as pd\n",
    "# 读取CSV文件\n",
    "csv_path = '../data.xlsx'\n",
    "df = pd.read_excel(csv_path)\n",
    "\n",
    "# 过滤出符合条件的定性指标\n",
    "qualitative_metrics = df[df['type'] == '披露就得分']['metric'].tolist()\n",
    "\n",
    "# # 将定性指标写入 metric_dx.txt\n",
    "# with open('../output/metric_dx.txt', 'w') as file:\n",
    "#     for metric in qualitative_metrics:\n",
    "#         file.write(f\"{metric}\\n\")\n"
   ]
  },
  {
   "cell_type": "code",
   "execution_count": 9,
   "metadata": {},
   "outputs": [
    {
     "data": {
      "text/plain": [
       "2           Protected or restored habitats\n",
       "4                       Absolute emissions\n",
       "8                 Total energy consumption\n",
       "10                Green financing projects\n",
       "12               Green certified buildings\n",
       "16                       water consumption\n",
       "20                External audit conducted\n",
       "26             Anti-corruption disclosures\n",
       "27                Anti-corruption training\n",
       "28      Assurance of sustainability report\n",
       "29         List of relevant certifications\n",
       "32    Availability of Healthcare Resources\n",
       "33                Community Health Program\n",
       "37               Philanthropic initiatives\n",
       "39                  Controversial Sourcing\n",
       "41              Consumer rights protection\n",
       "50               Total number of employees\n",
       "59            Community nutrition programs\n",
       "Name: metric, dtype: object"
      ]
     },
     "execution_count": 9,
     "metadata": {},
     "output_type": "execute_result"
    }
   ],
   "source": [
    "qualitative_metrics"
   ]
  },
  {
   "cell_type": "code",
   "execution_count": 12,
   "metadata": {},
   "outputs": [],
   "source": [
    "import pandas as pd\n",
    "from collections import defaultdict\n",
    "# 加载字典 Excel 文件\n",
    "dictionary_df = pd.read_excel(\"../dictionary_new1.xlsx\")\n",
    "\n",
    "# 初始化一个默认字典，每个指标对应多个关键词\n",
    "metrics_keywords = defaultdict(list)\n",
    "\n",
    "# 遍历每一行，将关键词加入对应的指标列表中\n",
    "for _, row in dictionary_df.iterrows():\n",
    "    metric = row[\"Metric\"]\n",
    "    keyword = row[\"keyword\"]\n",
    "    metrics_keywords[metric].append(keyword)\n",
    "\n",
    "# 过滤字典，仅保留 qualitative_metrics 中的指标\n",
    "# filtered_metrics_keywords = {metric: keywords for metric, keywords in metrics_keywords.items() if metric in qualitative_metrics}\n",
    "filtered_metrics_keywords = {metric: metrics_keywords[metric] for metric in qualitative_metrics if metric in metrics_keywords}\n"
   ]
  },
  {
   "cell_type": "code",
   "execution_count": 14,
   "metadata": {},
   "outputs": [],
   "source": [
    "import re\n",
    "from transformers import pipeline\n",
    "from collections import defaultdict\n",
    "import pandas as pd\n",
    "\n",
    "# 情感分析模型\n",
    "sentiment_analyzer = pipeline('sentiment-analysis', model=\"distilbert-base-uncased-finetuned-sst-2-english\")\n",
    "\n",
    "# 你的metrics_keywords变量示例\n",
    "filtered_metrics_keywords = defaultdict(list, filtered_metrics_keywords)\n",
    "\n",
    "# 读取原文文本\n",
    "with open(file, 'r') as file:\n",
    "    raw_text = file.read()\n",
    "\n",
    "# 存储匹配结果\n",
    "results = []\n",
    "\n",
    "# 遍历metrics_keywords中的每个指标及其关键词\n",
    "for metric, keywords in filtered_metrics_keywords.items():\n",
    "    found = False  # 标记是否找到匹配的关键词\n",
    "    for keyword in keywords:\n",
    "        if found:\n",
    "            break  # 如果已经找到匹配项，则跳出循环\n",
    "        keyword_pattern = re.escape(str(keyword))\n",
    "        # match = re.search(rf\"([^.]*?\\b({keyword_pattern})\\b[^.]*\\.)\", raw_text)\n",
    "        match = re.search(rf\"([^.]*?({keyword_pattern})[^.]*\\.)\", raw_text)\n",
    "\n",
    "        if match:\n",
    "            sentence = match.group(0)\n",
    "            matched_keyword = match.group(2)  # 提取匹配的具体关键字\n",
    "            \n",
    "            # 将句子按句号分割，逐段分析\n",
    "            sub_sentences = re.split(r'(?<=\\.) ', sentence)\n",
    "            for sub_sentence in sub_sentences:\n",
    "                if len(sub_sentence) > 512:  # 如果子句仍然过长则截断\n",
    "                    sub_sentence = sub_sentence[:512]\n",
    "\n",
    "                # 进行情感分析\n",
    "                sentiment = sentiment_analyzer(sub_sentence)\n",
    "                confidence = sentiment[0]['score']\n",
    "                sentiment_label = sentiment[0]['label']\n",
    "                \n",
    "                # 记录结果\n",
    "                results.append({\n",
    "                    'metric': metric,\n",
    "                    'keyword': matched_keyword,\n",
    "                    # 'sentence': sub_sentence,\n",
    "                    # 'sentiment': sentiment_label,\n",
    "                    'confidence': confidence\n",
    "                })\n",
    "                \n",
    "            found = True  # 标记找到匹配项，退出关键词循环\n",
    "\n",
    "# # 转换为DataFrame并保存结果\n",
    "# results_df = pd.DataFrame(results)\n",
    "# results_df.to_csv('qualitative_metrics_analysis_with_single_keyword.csv', index=False)\n",
    "# print(results_df)\n"
   ]
  },
  {
   "cell_type": "code",
   "execution_count": 15,
   "metadata": {},
   "outputs": [
    {
     "name": "stdout",
     "output_type": "stream",
     "text": [
      "                            metric  value  confidence\n",
      "0               Absolute emissions      1    0.845853\n",
      "1         Total energy consumption      1    0.992704\n",
      "2  List of relevant certifications      1    0.983775\n"
     ]
    }
   ],
   "source": [
    "import pandas as pd\n",
    "\n",
    "# 假设results已经存在，并包含每条记录的'Metric'字段\n",
    "# 从results中提取Metric列，并将Value列设为1\n",
    "metrics_data = [{'metric': result['metric'], 'value': 1, 'confidence':result['confidence']} for result in results]\n",
    "\n",
    "# 创建新的DataFrame\n",
    "metrics_df = pd.DataFrame(metrics_data).drop_duplicates()  # 去重，避免重复的Metric\n",
    "\n",
    "# 保存或查看结果\n",
    "metrics_df.to_csv(outputfile, index=False)\n",
    "print(metrics_df)\n"
   ]
  },
  {
   "cell_type": "code",
   "execution_count": null,
   "metadata": {},
   "outputs": [],
   "source": []
  }
 ],
 "metadata": {
  "kernelspec": {
   "display_name": "Python 3",
   "language": "python",
   "name": "python3"
  },
  "language_info": {
   "codemirror_mode": {
    "name": "ipython",
    "version": 3
   },
   "file_extension": ".py",
   "mimetype": "text/x-python",
   "name": "python",
   "nbconvert_exporter": "python",
   "pygments_lexer": "ipython3",
   "version": "3.10.11"
  }
 },
 "nbformat": 4,
 "nbformat_minor": 2
}
