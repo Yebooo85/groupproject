{
 "cells": [
  {
   "cell_type": "code",
   "execution_count": 25,
   "metadata": {},
   "outputs": [],
   "source": [
    "file = '../txt/AML.txt'\n",
    "outputfile = '../output_metric/Qualitative_metrics.csv'"
   ]
  },
  {
   "cell_type": "code",
   "execution_count": 26,
   "metadata": {},
   "outputs": [],
   "source": [
    "import json\n",
    "with open('../output/qualitative_metrics_keywords.json', 'r', encoding='utf-8') as f:\n",
    "    qualitative_metrics_keywords = json.load(f)\n"
   ]
  },
  {
   "cell_type": "code",
   "execution_count": null,
   "metadata": {},
   "outputs": [],
   "source": [
    "import re\n",
    "from transformers import pipeline\n",
    "from collections import defaultdict\n",
    "import pandas as pd\n",
    "\n",
    "# 情感分析模型\n",
    "sentiment_analyzer = pipeline('sentiment-analysis', model=\"distilbert-base-uncased-finetuned-sst-2-english\")\n",
    "\n",
    "# 你的metrics_keywords变量示例\n",
    "qualitative_metrics_keywords = defaultdict(list, qualitative_metrics_keywords)\n",
    "\n",
    "# 读取原文文本\n",
    "with open(file, 'r') as file:\n",
    "    raw_text = file.read()\n",
    "\n",
    "# 存储匹配结果\n",
    "results = []\n",
    "\n",
    "# 遍历metrics_keywords中的每个指标及其关键词\n",
    "for metric, keywords in qualitative_metrics_keywords.items():\n",
    "    found = False  # 标记是否找到匹配的关键词\n",
    "    for keyword in keywords:\n",
    "        if found:\n",
    "            break  # 如果已经找到匹配项，则跳出循环\n",
    "        keyword_pattern = re.escape(str(keyword))\n",
    "        # match = re.search(rf\"([^.]*?\\b({keyword_pattern})\\b[^.]*\\.)\", raw_text)\n",
    "        match = re.search(rf\"([^.]*?({keyword_pattern})[^.]*\\.)\", raw_text)\n",
    "\n",
    "        if match:\n",
    "            sentence = match.group(0)\n",
    "            matched_keyword = match.group(2)  # 提取匹配的具体关键字\n",
    "            \n",
    "            # 将句子按句号分割，逐段分析\n",
    "            sub_sentences = re.split(r'(?<=\\.) ', sentence)\n",
    "            for sub_sentence in sub_sentences:\n",
    "                if len(sub_sentence) > 512:  # 如果子句仍然过长则截断\n",
    "                    sub_sentence = sub_sentence[:512]\n",
    "\n",
    "                # 进行情感分析\n",
    "                sentiment = sentiment_analyzer(sub_sentence)\n",
    "                confidence = sentiment[0]['score']\n",
    "                sentiment_label = sentiment[0]['label']\n",
    "                \n",
    "                # 记录结果\n",
    "                results.append({\n",
    "                    'metric': metric,\n",
    "                    'keyword': matched_keyword,\n",
    "                    # 'sentence': sub_sentence,\n",
    "                    'sentiment': sentiment_label,\n",
    "                    'confidence': confidence\n",
    "                })\n",
    "                \n",
    "            found = True  # 标记找到匹配项，退出关键词循环\n"
   ]
  },
  {
   "cell_type": "code",
   "execution_count": 28,
   "metadata": {},
   "outputs": [
    {
     "name": "stdout",
     "output_type": "stream",
     "text": [
      "                            metric  value  confidence\n",
      "0               Absolute emissions      1    0.845853\n",
      "1         Total energy consumption      1    0.992704\n",
      "2  List of relevant certifications      1    0.983775\n"
     ]
    }
   ],
   "source": [
    "import pandas as pd\n",
    "\n",
    "# 假设results已经存在，并包含每条记录的'Metric'字段\n",
    "# 从results中提取Metric列，并将Value列设为1\n",
    "metrics_data = [{'metric': result['metric'], 'value': 1, 'confidence':result['confidence']} for result in results]\n",
    "\n",
    "# 创建新的DataFrame\n",
    "metrics_df = pd.DataFrame(metrics_data).drop_duplicates()  # 去重，避免重复的Metric\n",
    "\n",
    "# 保存或查看结果\n",
    "metrics_df.to_csv(outputfile, index=False)\n",
    "print(metrics_df)\n"
   ]
  },
  {
   "cell_type": "code",
   "execution_count": null,
   "metadata": {},
   "outputs": [],
   "source": []
  }
 ],
 "metadata": {
  "kernelspec": {
   "display_name": "Python 3",
   "language": "python",
   "name": "python3"
  },
  "language_info": {
   "codemirror_mode": {
    "name": "ipython",
    "version": 3
   },
   "file_extension": ".py",
   "mimetype": "text/x-python",
   "name": "python",
   "nbconvert_exporter": "python",
   "pygments_lexer": "ipython3",
   "version": "3.10.11"
  }
 },
 "nbformat": 4,
 "nbformat_minor": 2
}
