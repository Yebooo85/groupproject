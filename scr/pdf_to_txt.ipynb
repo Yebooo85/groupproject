{
 "cells": [
  {
   "cell_type": "code",
   "execution_count": 1,
   "metadata": {},
   "outputs": [],
   "source": [
    "import re\n",
    "alphabets= \"([A-Za-z])\"\n",
    "prefixes = \"(Mr|St|Mrs|Ms|Dr)[.]\"\n",
    "suffixes = \"(Inc|Ltd|Jr|Sr|Co)\"\n",
    "starters = \"(Mr|Mrs|Ms|Dr|Prof|Capt|Cpt|Lt|He\\s|She\\s|It\\s|They\\s|Their\\s|Our\\s|We\\s|But\\s|However\\s|That\\s|This\\s|Wherever)\"\n",
    "acronyms = \"([A-Z][.][A-Z][.](?:[A-Z][.])?)\"\n",
    "websites = \"[.](com|net|org|io|gov|edu|me)\"\n",
    "digits = \"([0-9])\"\n",
    "multiple_dots = r'\\.{2,}'\n",
    "\n",
    "def split_into_sentences(text: str) -> list[str]:\n",
    "    \"\"\"\n",
    "    Split the text into sentences.\n",
    "\n",
    "    If the text contains substrings \"<prd>\" or \"<stop>\", they would lead \n",
    "    to incorrect splitting because they are used as markers for splitting.\n",
    "\n",
    "    :param text: text to be split into sentences\n",
    "    :type text: str\n",
    "\n",
    "    :return: list of sentences\n",
    "    :rtype: list[str]\n",
    "    \"\"\"\n",
    "    text = \" \" + text + \"  \"\n",
    "    text = text.replace(\"\\n\",\" \")\n",
    "    text = re.sub(prefixes,\"\\\\1<prd>\",text)\n",
    "    text = re.sub(websites,\"<prd>\\\\1\",text)\n",
    "    text = re.sub(digits + \"[.]\" + digits,\"\\\\1<prd>\\\\2\",text)\n",
    "    text = re.sub(multiple_dots, lambda match: \"<prd>\" * len(match.group(0)) + \"<stop>\", text)\n",
    "    if \"Ph.D\" in text: text = text.replace(\"Ph.D.\",\"Ph<prd>D<prd>\")\n",
    "    text = re.sub(\"\\s\" + alphabets + \"[.] \",\" \\\\1<prd> \",text)\n",
    "    text = re.sub(acronyms+\" \"+starters,\"\\\\1<stop> \\\\2\",text)\n",
    "    text = re.sub(alphabets + \"[.]\" + alphabets + \"[.]\" + alphabets + \"[.]\",\"\\\\1<prd>\\\\2<prd>\\\\3<prd>\",text)\n",
    "    text = re.sub(alphabets + \"[.]\" + alphabets + \"[.]\",\"\\\\1<prd>\\\\2<prd>\",text)\n",
    "    text = re.sub(\" \"+suffixes+\"[.] \"+starters,\" \\\\1<stop> \\\\2\",text)\n",
    "    text = re.sub(\" \"+suffixes+\"[.]\",\" \\\\1<prd>\",text)\n",
    "    text = re.sub(\" \" + alphabets + \"[.]\",\" \\\\1<prd>\",text)\n",
    "    if \"”\" in text: text = text.replace(\".”\",\"”.\")\n",
    "    if \"\\\"\" in text: text = text.replace(\".\\\"\",\"\\\".\")\n",
    "    if \"!\" in text: text = text.replace(\"!\\\"\",\"\\\"!\")\n",
    "    if \"?\" in text: text = text.replace(\"?\\\"\",\"\\\"?\")\n",
    "    text = text.replace(\".\",\".<stop>\")\n",
    "    text = text.replace(\"?\",\"?<stop>\")\n",
    "    text = text.replace(\"!\",\"!<stop>\")\n",
    "    text = text.replace(\"<prd>\",\".\")\n",
    "    sentences = text.split(\"<stop>\")\n",
    "    sentences = [s.strip() for s in sentences]\n",
    "    if sentences and not sentences[-1]: sentences = sentences[:-1]\n",
    "    return sentences"
   ]
  },
  {
   "cell_type": "code",
   "execution_count": 4,
   "metadata": {},
   "outputs": [],
   "source": [
    "import pdfplumber\n",
    "import re\n",
    "\n",
    "def pdf_to_text(file_path):\n",
    "    # 使用pdfplumber打开PDF文件\n",
    "    with pdfplumber.open(file_path) as pdf:\n",
    "        # 初始化一个空字符串来保存文本内容\n",
    "        text = \"\"\n",
    "\n",
    "        # 遍历PDF中的每一页\n",
    "        for page in pdf.pages:\n",
    "            # 提取页面的文本并添加到text变量中\n",
    "            text += page.extract_text()\n",
    "            text += \"\\n\\n\"  # 添加换行符以分隔不同页面的内容\n",
    "\n",
    "    return text\n",
    "\n",
    "def clean_text(text):\n",
    "    # 移除多余的空格和换行\n",
    "    text = re.sub(r'\\s+', ' ', text)\n",
    "    # 移除页面编号、页眉页脚等\n",
    "    text = re.sub(r'Page \\d+|\\f', '', text)\n",
    "    # 移除不需要的符号\n",
    "    text = re.sub(r'[^\\x00-\\x7F]+', ' ', text)  # 移除非ASCII字符\n",
    "    # 确保句号、问号、感叹号、分号后有空格，不影响小数\n",
    "    # text = re.sub(r'(?<=[.?!;])(?=\\s*[A-Za-z])', ' ', text)\n",
    "    return text.strip()\n",
    "\n",
    "def pdf_to_clean_text(pdf_path, output_txt_path):\n",
    "    # PDF转文本\n",
    "    raw_text = pdf_to_text(pdf_path)\n",
    "    # 清洗文本\n",
    "    cleaned_text = clean_text(raw_text)\n",
    "    # 分段处理\n",
    "    chunks = split_into_sentences(cleaned_text)\n",
    "    \n",
    "    # 写入到TXT文件，每段写入一行\n",
    "    with open(output_txt_path, 'w', encoding='utf-8') as f:\n",
    "        for chunk in chunks:\n",
    "            f.write(chunk + '\\n')\n",
    "    \n",
    "    print(f\"Cleaned text saved to {output_txt_path}\")\n",
    "\n"
   ]
  },
  {
   "cell_type": "code",
   "execution_count": 5,
   "metadata": {},
   "outputs": [
    {
     "name": "stdout",
     "output_type": "stream",
     "text": [
      "Cleaned text saved to ../txt/AML.txt\n"
     ]
    }
   ],
   "source": [
    "# 单个文件\n",
    "pdf_path = '../data/AML_Sustainability_Report_FY2023.pdf'\n",
    "# pdf_path = '../data/Medtecs - Sustainability Report FY2023.pdf'\n",
    "\n",
    "output_txt_path = '../txt/AML.txt'\n",
    "# output_txt_path = '../output/Medtecs.txt'\n",
    "pdf_to_clean_text(pdf_path, output_txt_path)"
   ]
  },
  {
   "cell_type": "code",
   "execution_count": 8,
   "metadata": {},
   "outputs": [
    {
     "name": "stdout",
     "output_type": "stream",
     "text": [
      "Cleaned text saved to ../txt\\AML_Sustainability_Report_FY2023.txt\n",
      "Cleaned text saved to ../txt\\Medtecs - Sustainability Report FY2023.txt\n"
     ]
    }
   ],
   "source": [
    "# 多个文件\n",
    "import os\n",
    "# 源文件夹路径\n",
    "source_folder = \"../data\"\n",
    "# 目标文件夹路径，用于保存TXT文件\n",
    "target_folder = \"../txt\"\n",
    "\n",
    "# 如果目标文件夹不存在，则创建它\n",
    "if not os.path.exists(target_folder):\n",
    "    os.makedirs(target_folder)\n",
    "\n",
    "# 遍历源文件夹中的所有文件\n",
    "for filename in os.listdir(source_folder):\n",
    "    if filename.endswith(\".pdf\"):\n",
    "        # 构建完整的文件路径\n",
    "        file_path = os.path.join(source_folder, filename)\n",
    "        txt_file_path = os.path.join(target_folder, filename.replace(\".pdf\", \".txt\"))\n",
    "        pdf_to_clean_text(file_path, txt_file_path)\n",
    "        \n"
   ]
  }
 ],
 "metadata": {
  "kernelspec": {
   "display_name": "Python 3",
   "language": "python",
   "name": "python3"
  },
  "language_info": {
   "codemirror_mode": {
    "name": "ipython",
    "version": 3
   },
   "file_extension": ".py",
   "mimetype": "text/x-python",
   "name": "python",
   "nbconvert_exporter": "python",
   "pygments_lexer": "ipython3",
   "version": "3.10.11"
  }
 },
 "nbformat": 4,
 "nbformat_minor": 2
}
