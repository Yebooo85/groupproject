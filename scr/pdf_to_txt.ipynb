{
 "cells": [
  {
   "cell_type": "code",
   "execution_count": 2,
   "metadata": {},
   "outputs": [],
   "source": [
    "import fitz  # PyMuPDF\n",
    "import re\n",
    "\n",
    "def pdf_to_text(pdf_path):\n",
    "    # 打开PDF文件\n",
    "    with fitz.open(pdf_path) as pdf:\n",
    "        text = \"\"\n",
    "        # 遍历每一页\n",
    "        for page_num in range(pdf.page_count):\n",
    "            page = pdf[page_num]\n",
    "            # 提取文本并追加\n",
    "            text += page.get_text()\n",
    "\n",
    "    return text\n",
    "\n",
    "def clean_text(text):\n",
    "    # # 移除多余的空格和换行\n",
    "    # text = re.sub(r'\\s+', ' ', text)\n",
    "    # 移除页面编号、页眉页脚等\n",
    "    text = re.sub(r'Page \\d+|\\f', '', text)\n",
    "    # 移除不需要的符号\n",
    "    text = re.sub(r'[^\\x00-\\x7F]+', ' ', text)  # 移除非ASCII字符\n",
    "    return text.strip()\n",
    "\n",
    "def split_text_by_sentences(text, max_len=512):\n",
    "    # 使用正则表达式按句号、问号和分号分割\n",
    "    sentences = re.split(r'(?<!\\w\\.\\w.)(?<![A-Z][a-z]\\.)(?<=\\.|\\?|\\!)\\s', text)\n",
    "    chunks = []\n",
    "    current_chunk = \"\"\n",
    "\n",
    "    # 根据BERT的最大输入长度（如512个词汇）分段\n",
    "    for sentence in sentences:\n",
    "        if len(current_chunk) + len(sentence) < max_len:\n",
    "            current_chunk += \" \" + sentence\n",
    "        else:\n",
    "            chunks.append(current_chunk.strip())\n",
    "            current_chunk = sentence\n",
    "    if current_chunk:\n",
    "        chunks.append(current_chunk.strip())\n",
    "\n",
    "    return chunks\n",
    "\n",
    "def pdf_to_clean_text(pdf_path, output_txt_path):\n",
    "    # PDF转文本\n",
    "    raw_text = pdf_to_text(pdf_path)\n",
    "    # 清洗文本\n",
    "    cleaned_text = clean_text(raw_text)\n",
    "    split_text_by_sentences(cleaned_text, max_len=512)\n",
    "    # 写入到TXT文件\n",
    "    with open(output_txt_path, 'w', encoding='utf-8') as f:\n",
    "        f.write(cleaned_text)\n",
    "    print(f\"Cleaned text saved to {output_txt_path}\")\n",
    "\n",
    "\n"
   ]
  },
  {
   "cell_type": "code",
   "execution_count": 3,
   "metadata": {},
   "outputs": [
    {
     "name": "stdout",
     "output_type": "stream",
     "text": [
      "Cleaned text saved to ../output/1030_split.txt\n"
     ]
    }
   ],
   "source": [
    "pdf_path = '../data/AML_Sustainability_Report_FY2023.pdf'\n",
    "output_txt_path = '../output/1030_split.txt'\n",
    "pdf_to_clean_text(pdf_path, output_txt_path)"
   ]
  }
 ],
 "metadata": {
  "kernelspec": {
   "display_name": "Python 3",
   "language": "python",
   "name": "python3"
  },
  "language_info": {
   "codemirror_mode": {
    "name": "ipython",
    "version": 3
   },
   "file_extension": ".py",
   "mimetype": "text/x-python",
   "name": "python",
   "nbconvert_exporter": "python",
   "pygments_lexer": "ipython3",
   "version": "3.10.11"
  }
 },
 "nbformat": 4,
 "nbformat_minor": 2
}
