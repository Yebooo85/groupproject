{
 "cells": [
  {
   "cell_type": "markdown",
   "metadata": {},
   "source": [
    "只是尝试了个社区包pdf提取，但是没有效果，都是空的"
   ]
  },
  {
   "cell_type": "code",
   "execution_count": 4,
   "metadata": {},
   "outputs": [],
   "source": [
    "import sys\n",
    "sys.path.insert(0, '../pdf_parsing-main/pdf_parsing-main/src')\n",
    "\n",
    "from parser import PDFParser\n",
    "pdf_path = '../data/AML_Sustainability_Report_FY2023.pdf'\n",
    "parser = PDFParser(pdf_path)\n"
   ]
  },
  {
   "cell_type": "code",
   "execution_count": 6,
   "metadata": {},
   "outputs": [],
   "source": [
    "import json\n",
    "\n",
    "parser.extract_text()\n",
    "# 指定保存的文件路径\n",
    "json_file_path = '../json/sections.json'\n",
    "with open(json_file_path, 'w') as json_file:\n",
    "    json.dump(parser.text.section, json_file)"
   ]
  },
  {
   "cell_type": "code",
   "execution_count": 8,
   "metadata": {},
   "outputs": [],
   "source": [
    "parser.extract_tables()\n",
    "for i, table in enumerate(parser.tables):\n",
    "    csv_filename = \"../output/table_i_{table.page_num}_{table.title[:10]}.csv\"\n",
    "    table.table_data.to_csv(csv_filename)"
   ]
  },
  {
   "cell_type": "code",
   "execution_count": null,
   "metadata": {},
   "outputs": [],
   "source": []
  }
 ],
 "metadata": {
  "kernelspec": {
   "display_name": "Python 3",
   "language": "python",
   "name": "python3"
  },
  "language_info": {
   "codemirror_mode": {
    "name": "ipython",
    "version": 3
   },
   "file_extension": ".py",
   "mimetype": "text/x-python",
   "name": "python",
   "nbconvert_exporter": "python",
   "pygments_lexer": "ipython3",
   "version": "3.10.11"
  }
 },
 "nbformat": 4,
 "nbformat_minor": 2
}
