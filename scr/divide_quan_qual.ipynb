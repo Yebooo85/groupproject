{
 "cells": [
  {
   "cell_type": "code",
   "execution_count": 3,
   "metadata": {},
   "outputs": [],
   "source": [
    "# 处理\n",
    "import pandas as pd\n",
    "# 读取CSV文件\n",
    "csv_path = '../data.xlsx'\n",
    "df = pd.read_excel(csv_path)\n",
    "\n",
    "# 过滤出符合条件的定性指标\n",
    "qualitative_metrics = df[df['type'] == '披露就得分']['metric'].tolist()\n",
    "\n",
    "# # 将定性指标写入 metric_dx.txt\n",
    "# with open('../output/metric_dx.txt', 'w') as file:\n",
    "#     for metric in qualitative_metrics:\n",
    "#         file.write(f\"{metric}\\n\")\n"
   ]
  },
  {
   "cell_type": "code",
   "execution_count": 4,
   "metadata": {},
   "outputs": [],
   "source": [
    "import pandas as pd\n",
    "from collections import defaultdict\n",
    "# 加载字典 Excel 文件\n",
    "dictionary_df = pd.read_excel(\"../dictionary_new1.xlsx\")\n",
    "\n",
    "# 初始化一个默认字典，每个指标对应多个关键词\n",
    "metrics_keywords = defaultdict(list)\n",
    "\n",
    "# 遍历每一行，将关键词加入对应的指标列表中\n",
    "for _, row in dictionary_df.iterrows():\n",
    "    metric = row[\"Metric\"]\n",
    "    keyword = row[\"keyword\"]\n",
    "    metrics_keywords[metric].append(keyword)\n",
    "\n",
    "# 过滤字典，仅保留 qualitative_metrics 中的指标\n",
    "# filtered_metrics_keywords = {metric: keywords for metric, keywords in metrics_keywords.items() if metric in qualitative_metrics}\n",
    "qualitative_metrics_keywords = {metric: metrics_keywords[metric] for metric in qualitative_metrics if metric in metrics_keywords}\n",
    "quantity_metrics_keywords = {k: v for k, v in metrics_keywords.items() if k not in qualitative_metrics_keywords}\n"
   ]
  },
  {
   "cell_type": "code",
   "execution_count": 6,
   "metadata": {},
   "outputs": [
    {
     "name": "stdout",
     "output_type": "stream",
     "text": [
      "successful\n"
     ]
    }
   ],
   "source": [
    "import json\n",
    "\n",
    "# 保存 filtered_metrics_keywords 到 JSON 文件\n",
    "with open('../output/qualitative_metrics_keywords.json', 'w', encoding='utf-8') as f:\n",
    "    json.dump(qualitative_metrics_keywords, f, ensure_ascii=False, indent=4)\n",
    "\n",
    "# 保存 updated_metrics_keywords 到 JSON 文件\n",
    "with open('../output/quantity_metrics_keywords.json', 'w', encoding='utf-8') as f:\n",
    "    json.dump(quantity_metrics_keywords, f, ensure_ascii=False, indent=4)\n",
    "\n",
    "print(\"successful\")\n"
   ]
  }
 ],
 "metadata": {
  "kernelspec": {
   "display_name": "Python 3",
   "language": "python",
   "name": "python3"
  },
  "language_info": {
   "codemirror_mode": {
    "name": "ipython",
    "version": 3
   },
   "file_extension": ".py",
   "mimetype": "text/x-python",
   "name": "python",
   "nbconvert_exporter": "python",
   "pygments_lexer": "ipython3",
   "version": "3.10.11"
  }
 },
 "nbformat": 4,
 "nbformat_minor": 2
}
