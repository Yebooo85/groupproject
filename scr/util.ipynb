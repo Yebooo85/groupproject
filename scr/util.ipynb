{
 "cells": [
  {
   "cell_type": "code",
   "execution_count": null,
   "metadata": {},
   "outputs": [],
   "source": [
    "import torch\n",
    "from tqdm import tqdm \n",
    "# 定义函数获取BERT嵌入并显示进度条\n",
    "def get_bert_embeddings_with_progress(text_list, description=\"Calculating embeddings\"):\n",
    "    embeddings = []\n",
    "    for text in tqdm(text_list, desc=description):\n",
    "        inputs = tokenizer(text, return_tensors='pt', truncation=True, max_length=128, padding='max_length')\n",
    "        with torch.no_grad():\n",
    "            outputs = model(**inputs)\n",
    "        embedding = outputs.last_hidden_state[:, 0, :].squeeze().numpy()\n",
    "        embeddings.append(embedding)\n",
    "    return embeddings"
   ]
  }
 ],
 "metadata": {
  "kernelspec": {
   "display_name": "Python 3",
   "language": "python",
   "name": "python3"
  },
  "language_info": {
   "name": "python",
   "version": "3.10.11"
  }
 },
 "nbformat": 4,
 "nbformat_minor": 2
}
