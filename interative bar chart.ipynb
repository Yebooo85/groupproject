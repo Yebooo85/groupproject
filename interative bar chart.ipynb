{
 "cells": [
  {
   "cell_type": "code",
   "execution_count": 1,
   "metadata": {},
   "outputs": [],
   "source": [
    "import pandas as pd\n",
    "import dash\n",
    "from dash import Dash, dcc, html, Input, Output\n",
    "import plotly.graph_objects as go"
   ]
  },
  {
   "cell_type": "code",
   "execution_count": 2,
   "metadata": {},
   "outputs": [],
   "source": [
    "# import data\n",
    "def fetch_data():\n",
    "    file_path = \"company_esg_score.xlsx\"\n",
    "    df = pd.read_excel(file_path, header = 0)\n",
    "    return df"
   ]
  },
  {
   "cell_type": "code",
   "execution_count": 3,
   "metadata": {},
   "outputs": [],
   "source": [
    "# indicators\n",
    "e_metrics = ['Emission intensities', 'Energy consumption intensity', 'Waste generated', 'Water intensity']\n",
    "s_metrics = ['Average training hours per employee', 'Current employees by age groups (aged above 50 years old)',\n",
    "             'Current employees by gender (female)', 'Employee satisfaction rate',\n",
    "             'New hires by gender (female)', 'New hires by age (aged above 50 years old)',\n",
    "             'Total turnover', 'Turnover by gender (female)', 'Turnover by age (aged above 50 years old)',\n",
    "             'Fatalities', 'Percentage of employees covered by health insurance',\n",
    "             'High-consequence injuries', 'Work-related injuries','Company donated']\n",
    "g_metrics = ['Board independence', 'Women in the management team', 'Women on the board']"
   ]
  },
  {
   "cell_type": "code",
   "execution_count": 4,
   "metadata": {},
   "outputs": [],
   "source": [
    "# Create a Dash app\n",
    "app = Dash(__name__)"
   ]
  },
  {
   "cell_type": "code",
   "execution_count": 5,
   "metadata": {},
   "outputs": [],
   "source": [
    "# Initialize the layput\n",
    "app.layout = html.Div([\n",
    "    # E, S, G dropdowns\n",
    "    # E dropdown\n",
    "    html.Div([\n",
    "        html.Label(\"Select E Indicators\"),\n",
    "        dcc.Dropdown(\n",
    "            id=\"e-dropdown\",\n",
    "            options = [{'label': metric, 'value': metric} for metric in e_metrics],\n",
    "            multi=True,\n",
    "            placeholder=\"Select E indicators\"\n",
    "        ),\n",
    "    ], style={'width': '30%', 'display': 'inline-block', 'padding': '10px'}),\n",
    "\n",
    "    # S dropdown\n",
    "    html.Div([\n",
    "        html.Label(\"Select S Indicators\"),\n",
    "        dcc.Dropdown(\n",
    "            id=\"s-dropdown\",\n",
    "            options = [{'label': metric, 'value': metric} for metric in s_metrics],\n",
    "            multi=True,\n",
    "            placeholder=\"Select S indicators\"\n",
    "        ),\n",
    "    ], style={'width': '30%', 'display': 'inline-block', 'padding': '10px'}),\n",
    "    \n",
    "    # G dropdown\n",
    "    html.Div([\n",
    "        html.Label(\"Select G Indicators\"),\n",
    "        dcc.Dropdown(\n",
    "            id=\"g-dropdown\",\n",
    "            options = [{'label': metric, 'value': metric} for metric in g_metrics],\n",
    "            multi=True,\n",
    "            placeholder=\"Select G indicators\"\n",
    "        ),\n",
    "    ], style={'width': '30%', 'display': 'inline-block', 'padding': '10px'}),\n",
    "\n",
    "    # Output table and chart\n",
    "    html.Div(id=\"output-table\", style={'marginTop': '20px'}),\n",
    "    dcc.Graph(id=\"output-graph\", style={'height': '400px', 'marginTop': '20px'}),\n",
    "    dcc.Input(id='dummy-input', type='hidden', value='dummy') \n",
    "])\n",
    "\n",
    "# callback function\n",
    "@app.callback(\n",
    "    [Output(\"output-table\", \"children\"), Output(\"output-graph\", \"figure\")],\n",
    "    [Input(\"e-dropdown\", \"value\"), Input(\"s-dropdown\", \"value\"), Input(\"g-dropdown\", \"value\")]\n",
    ")\n",
    "\n",
    "def update_output(e_selection, s_selection, g_selection):\n",
    "    df = fetch_data()\n",
    "    selected_data = {}\n",
    "\n",
    "    if e_selection:\n",
    "        for indicator in e_selection:\n",
    "            selected_data[indicator] = df[indicator].iloc[-1]\n",
    "    if s_selection:\n",
    "        for indicator in s_selection:\n",
    "            selected_data[indicator] = df[indicator].iloc[-1]\n",
    "    if g_selection:\n",
    "        for indicator in g_selection:\n",
    "            selected_data[indicator] = df[indicator].iloc[-1]\n",
    "    \n",
    "    if not selected_data:\n",
    "        return [], {}\n",
    "\n",
    "    # Create the table\n",
    "    table_data = pd.DataFrame(list(selected_data.items()), columns=[\"Indicator\", \"Score\"])\n",
    "\n",
    "    table = html.Table([\n",
    "        html.Thead(html.Tr([html.Th(col) for col in table_data.columns])),\n",
    "        html.Tbody([\n",
    "            html.Tr([html.Td(row[col]) for col in table_data.columns]) for _, row in table_data.iterrows()\n",
    "        ])\n",
    "    ])\n",
    "\n",
    "    # Create the barplot\n",
    "    fig = go.Figure()\n",
    "    for indicator, score in selected_data.items():\n",
    "        if indicator in e_metrics:\n",
    "          color = \"lightgreen\"  \n",
    "        elif indicator in s_metrics:\n",
    "          color = \"lightblue\"   \n",
    "        elif indicator in g_metrics:\n",
    "          color = \"green\"       \n",
    "        fig.add_trace(go.Bar(\n",
    "            x = [indicator],\n",
    "            y = [score],\n",
    "            name = indicator, \n",
    "            marker = dict(color = color)\n",
    "        ))\n",
    "        \n",
    "    fig.update_layout(\n",
    "        title = \"ESG Indicator Scores\",\n",
    "        yaxis_title = \"Score\",\n",
    "        xaxis = dict(tickangle = 90),\n",
    "        barmode = \"group\",\n",
    "        font = dict(family = \"Times New Roman\", size = 16),\n",
    "        plot_bgcolor='white',  \n",
    "        paper_bgcolor='white' \n",
    "    )\n",
    "\n",
    "    return table, fig"
   ]
  },
  {
   "cell_type": "code",
   "execution_count": 6,
   "metadata": {},
   "outputs": [
    {
     "data": {
      "text/html": [
       "\n",
       "        <iframe\n",
       "            width=\"100%\"\n",
       "            height=\"650\"\n",
       "            src=\"http://127.0.0.1:8070/\"\n",
       "            frameborder=\"0\"\n",
       "            allowfullscreen\n",
       "            \n",
       "        ></iframe>\n",
       "        "
      ],
      "text/plain": [
       "<IPython.lib.display.IFrame at 0x26144225a30>"
      ]
     },
     "metadata": {},
     "output_type": "display_data"
    }
   ],
   "source": [
    "if __name__ == \"__main__\":\n",
    "    app.run_server(debug = True, port = 8070)"
   ]
  }
 ],
 "metadata": {
  "kernelspec": {
   "display_name": "Python 3",
   "language": "python",
   "name": "python3"
  },
  "language_info": {
   "codemirror_mode": {
    "name": "ipython",
    "version": 3
   },
   "file_extension": ".py",
   "mimetype": "text/x-python",
   "name": "python",
   "nbconvert_exporter": "python",
   "pygments_lexer": "ipython3",
   "version": "3.12.5"
  }
 },
 "nbformat": 4,
 "nbformat_minor": 2
}
