{
 "cells": [
  {
   "cell_type": "code",
   "execution_count": null,
   "metadata": {},
   "outputs": [],
   "source": [
    "from pdfminer.high_level import extract_text\n",
    "\n",
    "text = extract_text('data/SUSTAINABILITY REPORT FOR PDS 2023-24.pdf')\n",
    "with open('output.txt', 'w', encoding='utf-8') as f:\n",
    "    f.write(text)\n"
   ]
  },
  {
   "cell_type": "code",
   "execution_count": null,
   "metadata": {},
   "outputs": [],
   "source": [
    "import re\n",
    "\n",
    "def clean_text(text):\n",
    "    # 移除页码：假设页码格式为“Page X”或“第 X 页”\n",
    "    text = re.sub(r'Page \\d+|第 \\d+ 页', '', text)\n",
    "\n",
    "    # 移除页眉和页脚：你可以根据文本中的模式定义页眉和页脚\n",
    "    # 假设每页都有相同的页眉或页脚，可以使用正则表达式或简单的字符串替换\n",
    "    # 例如，移除所有的 \"Company XYZ Confidential\"\n",
    "    text = re.sub(r'Company XYZ Confidential', '', text)\n",
    "\n",
    "    # 移除多余的空行\n",
    "    text = re.sub(r'\\n\\s*\\n', '\\n', text)\n",
    "\n",
    "    # 移除多余的空格\n",
    "    text = re.sub(r'[ ]{2,}', ' ', text)\n",
    "\n",
    "    return text\n",
    "\n",
    "# 读取PDF提取的文本\n",
    "with open('output.txt', 'r', encoding='utf-8') as f:\n",
    "    text = f.read()\n",
    "\n",
    "# 清理文本\n",
    "cleaned_text = clean_text(text)\n",
    "\n",
    "# 保存清理后的文本\n",
    "with open('cleaned_output.txt', 'w', encoding='utf-8') as f:\n",
    "    f.write(cleaned_text)\n",
    "\n",
    "print(\"文本清理完成！\")\n"
   ]
  },
  {
   "cell_type": "code",
   "execution_count": null,
   "metadata": {},
   "outputs": [],
   "source": [
    "def fix_paragraphs(text):\n",
    "    # 移除行尾的换行符（假设行尾的换行符表示文本未结束）\n",
    "    text = re.sub(r'(?<!\\n)\\n(?!\\n)', ' ', text)\n",
    "    \n",
    "    return text\n",
    "\n",
    "# 清理段落和格式\n",
    "formatted_text = fix_paragraphs(cleaned_text)\n",
    "\n",
    "# 保存格式化后的文本\n",
    "with open('formatted_output.txt', 'w', encoding='utf-8') as f:\n",
    "    f.write(formatted_text)\n",
    "\n",
    "print(\"文本格式化完成！\")\n"
   ]
  }
 ],
 "metadata": {
  "language_info": {
   "name": "python"
  }
 },
 "nbformat": 4,
 "nbformat_minor": 2
}
