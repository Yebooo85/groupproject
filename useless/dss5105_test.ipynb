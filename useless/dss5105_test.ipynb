{
 "cells": [
  {
   "cell_type": "code",
   "execution_count": 31,
   "metadata": {},
   "outputs": [],
   "source": [
    "# file = 'data/SUSTAINABILITY REPORT FOR PDS 2023-24.pdf'\n",
    "file = 'data/GSK-esg-performance-report-2023.pdf'"
   ]
  },
  {
   "cell_type": "code",
   "execution_count": 2,
   "metadata": {},
   "outputs": [],
   "source": [
    "from pdfminer.high_level import extract_text\n",
    "\n",
    "text = extract_text('data/SUSTAINABILITY REPORT FOR PDS 2023-24.pdf')\n",
    "with open('output.txt', 'w', encoding='utf-8') as f:\n",
    "    f.write(text)\n"
   ]
  },
  {
   "cell_type": "code",
   "execution_count": 3,
   "metadata": {},
   "outputs": [
    {
     "name": "stdout",
     "output_type": "stream",
     "text": [
      "文本清理完成！\n"
     ]
    }
   ],
   "source": [
    "import re\n",
    "\n",
    "def clean_text(text):\n",
    "    # 移除页码：假设页码格式为“Page X”或“第 X 页”\n",
    "    text = re.sub(r'Page \\d+|第 \\d+ 页', '', text)\n",
    "\n",
    "    # 移除页眉和页脚：你可以根据文本中的模式定义页眉和页脚\n",
    "    # 假设每页都有相同的页眉或页脚，可以使用正则表达式或简单的字符串替换\n",
    "    # 例如，移除所有的 \"Company XYZ Confidential\"\n",
    "    text = re.sub(r'Company XYZ Confidential', '', text)\n",
    "\n",
    "    # 移除多余的空行\n",
    "    text = re.sub(r'\\n\\s*\\n', '\\n', text)\n",
    "\n",
    "    # 移除多余的空格\n",
    "    text = re.sub(r'[ ]{2,}', ' ', text)\n",
    "\n",
    "    return text\n",
    "\n",
    "# 读取PDF提取的文本\n",
    "with open('output.txt', 'r', encoding='utf-8') as f:\n",
    "    text = f.read()\n",
    "\n",
    "# 清理文本\n",
    "cleaned_text = clean_text(text)\n",
    "\n",
    "# 保存清理后的文本\n",
    "with open('cleaned_output.txt', 'w', encoding='utf-8') as f:\n",
    "    f.write(cleaned_text)\n",
    "\n",
    "print(\"文本清理完成！\")\n"
   ]
  },
  {
   "cell_type": "code",
   "execution_count": 4,
   "metadata": {},
   "outputs": [
    {
     "name": "stdout",
     "output_type": "stream",
     "text": [
      "文本格式化完成！\n"
     ]
    }
   ],
   "source": [
    "def fix_paragraphs(text):\n",
    "    # 移除行尾的换行符（假设行尾的换行符表示文本未结束）\n",
    "    text = re.sub(r'(?<!\\n)\\n(?!\\n)', ' ', text)\n",
    "    \n",
    "    return text\n",
    "\n",
    "# 清理段落和格式\n",
    "formatted_text = fix_paragraphs(cleaned_text)\n",
    "\n",
    "# 保存格式化后的文本\n",
    "with open('formatted_output.txt', 'w', encoding='utf-8') as f:\n",
    "    f.write(formatted_text)\n",
    "\n",
    "print(\"文本格式化完成！\")\n"
   ]
  },
  {
   "cell_type": "code",
   "execution_count": null,
   "metadata": {},
   "outputs": [],
   "source": [
    "# 替换或移除特殊符号\n",
    "text = re.sub(r'[^\\x00-\\x7F]+', '', text)  # 只保留ASCII字符\n"
   ]
  },
  {
   "cell_type": "code",
   "execution_count": null,
   "metadata": {},
   "outputs": [],
   "source": [
    "# import camelot\n",
    "\n",
    "# # 读取PDF中的表格\n",
    "# tables = camelot.read_pdf(file, pages='all')\n",
    "\n",
    "# # 将表格保存为CSV\n",
    "# tables[0].to_csv('camelot_table.csv')\n",
    "\n",
    "# # 或者转换为Pandas DataFrame进行进一步处理\n",
    "# df = tables[0].df\n",
    "# print(df)\n"
   ]
  },
  {
   "cell_type": "code",
   "execution_count": 32,
   "metadata": {},
   "outputs": [],
   "source": [
    "import pdfplumber\n",
    "\n",
    "# 打开PDF文件\n",
    "with pdfplumber.open(file) as pdf:\n",
    "    first_page = pdf.pages[23]\n",
    "    # 提取表格\n",
    "    table = first_page.extract_table()\n",
    "\n",
    "    # 转换为DataFrame或CSV格式\n",
    "    import pandas as pd\n",
    "    df = pd.DataFrame(table)\n",
    "    df.to_csv('0913.csv', index=False)\n",
    "\n",
    "    # print(df)\n"
   ]
  },
  {
   "cell_type": "code",
   "execution_count": null,
   "metadata": {},
   "outputs": [],
   "source": [
    "import pandas as pd\n",
    "\n",
    "# 读取文本数据\n",
    "df = pd.read_csv('data.txt', delimiter='\\t', header=None, names=['text'])\n",
    "\n",
    "# 自定义标注函数\n",
    "def label_text(text):\n",
    "    # 简单示例：根据关键词标注\n",
    "    if 'keyword' in text:\n",
    "        return 'CATEGORY_A'\n",
    "    else:\n",
    "        return 'CATEGORY_B'\n",
    "\n",
    "# 应用标注函数\n",
    "df['label'] = df['text'].apply(label_text)\n",
    "\n",
    "# 保存标注结果\n",
    "df.to_csv('labeled_data.csv', index=False)\n"
   ]
  },
  {
   "cell_type": "markdown",
   "metadata": {},
   "source": [
    "transform"
   ]
  },
  {
   "cell_type": "code",
   "execution_count": 36,
   "metadata": {},
   "outputs": [
    {
     "name": "stdout",
     "output_type": "stream",
     "text": [
      "                                                  0   \\\n",
      "0  Number of fatalities (employees and complement...   \n",
      "4                                                  0   \n",
      "\n",
      "                                                  1   \\\n",
      "0  Number of fatalities (contractors not under GS...   \n",
      "4                                                  0   \n",
      "\n",
      "                                    2                                     3   \\\n",
      "0  Reportable injuries with lost time   Reportable illnesses with lost time    \n",
      "4                                  136                                     8   \n",
      "\n",
      "                                                  4   \\\n",
      "0  Lost time reportable injury rate (per 100,000 ...   \n",
      "4                                               0.09   \n",
      "\n",
      "                                                  5   \\\n",
      "0  Lost time reportable illness rate (per 100,000...   \n",
      "4                                               0.01   \n",
      "\n",
      "                                                6   \\\n",
      "0  Reportable injuries with and without lost time    \n",
      "4                                              199   \n",
      "\n",
      "                                                 7   \\\n",
      "0  Reportable illnesses with and without lost time    \n",
      "4                                                31   \n",
      "\n",
      "                                                  8   \\\n",
      "0  Reportable injury rate (per 100,000 hours work...   \n",
      "4                                               0.14   \n",
      "\n",
      "                                                  9   \\\n",
      "0  Reportable illness rate (per 100,000 hours wor...   \n",
      "4                                               0.02   \n",
      "\n",
      "                                                  10                 11  \n",
      "0  Reportable injury and illness rate (per 100,00...  Hours worked (m)   \n",
      "4                                               0.16                147  \n"
     ]
    }
   ],
   "source": [
    "import pandas as pd\n",
    "\n",
    "# 读取CSV文件\n",
    "df = pd.read_csv('raw_data.csv', header=None,encoding='utf-8')\n",
    "\n",
    "# 设定n，表示每n个元素一行\n",
    "n = 5 # 例如5列\n",
    "\n",
    "# 转置：将一列数据重新分配为n列\n",
    "# reshape(len(df), n) 表示按n列来重新整形\n",
    "reshaped_df = pd.DataFrame(df.values.reshape(-1, n))\n",
    "\n",
    "# 保留第1列和第n列\n",
    "reshaped_df = reshaped_df[[0, n-1]]  # 0是第一列，n-1是第n列\n",
    "\n",
    "# 再次转置：将行转换为列\n",
    "final_df = reshaped_df.T\n",
    "\n",
    "# 打印或保存结果\n",
    "print(final_df)\n",
    "\n",
    "# 保存为CSV文件\n",
    "final_df.to_csv('transformed_file.csv', index=False, header=False)\n"
   ]
  }
 ],
 "metadata": {
  "kernelspec": {
   "display_name": "Python 3",
   "language": "python",
   "name": "python3"
  },
  "language_info": {
   "codemirror_mode": {
    "name": "ipython",
    "version": 3
   },
   "file_extension": ".py",
   "mimetype": "text/x-python",
   "name": "python",
   "nbconvert_exporter": "python",
   "pygments_lexer": "ipython3",
   "version": "3.10.11"
  }
 },
 "nbformat": 4,
 "nbformat_minor": 2
}
