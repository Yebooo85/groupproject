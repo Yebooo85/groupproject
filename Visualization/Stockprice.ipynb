{
 "cells": [
  {
   "cell_type": "code",
   "execution_count": 1,
   "metadata": {},
   "outputs": [],
   "source": [
    "import yfinance as yf\n",
    "import dash\n",
    "from dash import dcc, html\n",
    "import plotly.graph_objs as go"
   ]
  },
  {
   "cell_type": "code",
   "execution_count": 2,
   "metadata": {},
   "outputs": [],
   "source": [
    "# Define a function to get the stock price for the past year\n",
    "def get_stock_data(ticker):\n",
    "    company = yf.Ticker(ticker)\n",
    "    data = company.history(period = \"1y\")  \n",
    "    return data"
   ]
  },
  {
   "cell_type": "code",
   "execution_count": 3,
   "metadata": {},
   "outputs": [],
   "source": [
    "# Draw a line graph of stock prices\n",
    "def plot_stock_price(stock_data):\n",
    "    fig = go.Figure()\n",
    "    \n",
    "    fig.add_trace(go.Scatter(\n",
    "        x = stock_data.index,\n",
    "        y = stock_data[\"Close\"],\n",
    "        mode = \"lines\",\n",
    "        name = \"Stock Price\",\n",
    "        line = dict(color = \"green\")\n",
    "    ))\n",
    "\n",
    "    fig.update_layout(\n",
    "        title = \"Stock Price Time Series\",\n",
    "        xaxis_title = \"Date\",\n",
    "        yaxis_title = \"Stock Price (USD)\",  \n",
    "        plot_bgcolor = \"white\",  \n",
    "        paper_bgcolor = \"white\",  \n",
    "        template = \"plotly_white\" \n",
    "    )\n",
    "\n",
    "    return fig"
   ]
  },
  {
   "cell_type": "code",
   "execution_count": 4,
   "metadata": {},
   "outputs": [],
   "source": [
    "# Create a Dash App\n",
    "app = dash.Dash(__name__)"
   ]
  },
  {
   "cell_type": "code",
   "execution_count": 5,
   "metadata": {},
   "outputs": [],
   "source": [
    "# Set up the Dash app layout\n",
    "app.layout = html.Div([\n",
    "    html.H1(\"Stock Price Dashboard\", style = {\"textAlign\": \"center\"}),\n",
    "     \n",
    "     # Input box of stock code \n",
    "    dcc.Input(\n",
    "        id = \"ticker-input\",  \n",
    "        value = \"AAPL\",  \n",
    "        type = \"text\",  \n",
    "        style = {\"width\": \"50%\", \"margin\": \"auto\"}\n",
    "    ),\n",
    "    \n",
    "    # Display the time series chart of stocks\n",
    "    dcc.Graph(id = 'stock-price-graph')\n",
    "])"
   ]
  },
  {
   "cell_type": "code",
   "execution_count": 6,
   "metadata": {},
   "outputs": [],
   "source": [
    "# Set up a callback function to update the stock price line chart\n",
    "@app.callback(\n",
    "    dash.dependencies.Output(\"stock-price-graph\", \"figure\"),\n",
    "    [dash.dependencies.Input(\"ticker-input\", \"value\")]\n",
    ")\n",
    "def update_stock_price_graph(ticker):\n",
    "    stock_data = get_stock_data(ticker)\n",
    "    return plot_stock_price(stock_data)"
   ]
  },
  {
   "cell_type": "code",
   "execution_count": 7,
   "metadata": {},
   "outputs": [
    {
     "data": {
      "text/html": [
       "\n",
       "        <iframe\n",
       "            width=\"100%\"\n",
       "            height=\"650\"\n",
       "            src=\"http://127.0.0.1:8065/\"\n",
       "            frameborder=\"0\"\n",
       "            allowfullscreen\n",
       "            \n",
       "        ></iframe>\n",
       "        "
      ],
      "text/plain": [
       "<IPython.lib.display.IFrame at 0x1a9ffb26150>"
      ]
     },
     "metadata": {},
     "output_type": "display_data"
    }
   ],
   "source": [
    "# Run the Dash app\n",
    "if __name__ == \"__main__\":\n",
    "    app.run_server(debug = True, port = 8065)"
   ]
  }
 ],
 "metadata": {
  "kernelspec": {
   "display_name": "Python 3",
   "language": "python",
   "name": "python3"
  },
  "language_info": {
   "codemirror_mode": {
    "name": "ipython",
    "version": 3
   },
   "file_extension": ".py",
   "mimetype": "text/x-python",
   "name": "python",
   "nbconvert_exporter": "python",
   "pygments_lexer": "ipython3",
   "version": "3.12.5"
  }
 },
 "nbformat": 4,
 "nbformat_minor": 2
}
