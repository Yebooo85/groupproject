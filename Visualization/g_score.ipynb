{
 "cells": [
  {
   "cell_type": "code",
   "execution_count": 1,
   "metadata": {},
   "outputs": [],
   "source": [
    "import pandas as pd\n",
    "import dash\n",
    "from dash import Dash, dcc, html, Input, Output\n",
    "import plotly.graph_objects as go"
   ]
  },
  {
   "cell_type": "code",
   "execution_count": 2,
   "metadata": {},
   "outputs": [],
   "source": [
    "# Import data\n",
    "def fetch_data():\n",
    "    file_path = \"company_esg_score.xlsx\"  \n",
    "    df = pd.read_excel(file_path, header = 0)\n",
    "    return df"
   ]
  },
  {
   "cell_type": "code",
   "execution_count": 3,
   "metadata": {},
   "outputs": [],
   "source": [
    "# Calculate governance score and remain score\n",
    "df = fetch_data()\n",
    "g_score = df[\"G Score\"].iloc[-1].round(2)  # governance score\n",
    "remain_g_score = (20.57 - g_score).round(2)  # remain score"
   ]
  },
  {
   "cell_type": "code",
   "execution_count": 4,
   "metadata": {},
   "outputs": [],
   "source": [
    "# Create chart of company's governance score\n",
    "def create_doughnut_chart(s_score, remain_s_score):\n",
    "    fig = go.Figure()\n",
    "\n",
    "    # Create the chart\n",
    "    fig.add_trace(go.Pie(\n",
    "        labels = [\"G Score\", \"\"],  \n",
    "        values = [g_score, remain_g_score],  \n",
    "        hole = 0.5,  \n",
    "        marker = dict(colors = ['lightgreen', 'white']),  \n",
    "        showlegend = False,  \n",
    "        textinfo = 'value',  \n",
    "        hoverinfo = ['label+value','none'],  \n",
    "        customdata = [f'{s_score}', ''],  \n",
    "        texttemplate = \"%{customdata}\",\n",
    "        textfont = dict(family = \"Times New Roman\", size = 24),\n",
    "        textposition = 'inside'\n",
    "    ))\n",
    "\n",
    "    # Location of the title: in the center of the chart\n",
    "    fig.update_layout(\n",
    "        annotations = [\n",
    "            dict(\n",
    "                text = 'G Score',  \n",
    "                x = 0.5, y = 0.5,  # location of the chart\n",
    "                showarrow = False,\n",
    "                font = dict(family = \"Times New Roman\", size = 32)\n",
    "            )],\n",
    "        margin = dict(t = 20, b = 60, l = 40, r = 40)  \n",
    "    )\n",
    "\n",
    "    return fig"
   ]
  },
  {
   "cell_type": "code",
   "execution_count": 5,
   "metadata": {},
   "outputs": [],
   "source": [
    "# create a Dash app\n",
    "app = dash.Dash(__name__)"
   ]
  },
  {
   "cell_type": "code",
   "execution_count": 6,
   "metadata": {},
   "outputs": [],
   "source": [
    "# Setting up the layout of the Dash app\n",
    "app.layout = html.Div([\n",
    "    dcc.Graph(id = 'g-score-chart', figure = create_doughnut_chart(g_score, remain_g_score))\n",
    "])"
   ]
  },
  {
   "cell_type": "code",
   "execution_count": 7,
   "metadata": {},
   "outputs": [
    {
     "data": {
      "text/html": [
       "\n",
       "        <iframe\n",
       "            width=\"100%\"\n",
       "            height=\"650\"\n",
       "            src=\"http://127.0.0.1:8068/\"\n",
       "            frameborder=\"0\"\n",
       "            allowfullscreen\n",
       "            \n",
       "        ></iframe>\n",
       "        "
      ],
      "text/plain": [
       "<IPython.lib.display.IFrame at 0x2a2847a93a0>"
      ]
     },
     "metadata": {},
     "output_type": "display_data"
    }
   ],
   "source": [
    "if __name__ == \"__main__\":\n",
    "    app.run_server(debug = True, port = 8068)"
   ]
  }
 ],
 "metadata": {
  "kernelspec": {
   "display_name": "Python 3",
   "language": "python",
   "name": "python3"
  },
  "language_info": {
   "codemirror_mode": {
    "name": "ipython",
    "version": 3
   },
   "file_extension": ".py",
   "mimetype": "text/x-python",
   "name": "python",
   "nbconvert_exporter": "python",
   "pygments_lexer": "ipython3",
   "version": "3.12.5"
  }
 },
 "nbformat": 4,
 "nbformat_minor": 2
}
