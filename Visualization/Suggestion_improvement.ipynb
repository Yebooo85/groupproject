{
 "cells": [
  {
   "cell_type": "code",
   "execution_count": 70,
   "metadata": {},
   "outputs": [],
   "source": [
    "import pandas as pd\n",
    "import dash\n",
    "from dash import Dash, dcc, html, Input, Output"
   ]
  },
  {
   "cell_type": "code",
   "execution_count": 71,
   "metadata": {},
   "outputs": [],
   "source": [
    "# import data\n",
    "def fetch_data():\n",
    "    file_path = \"companies_esg_scores.xlsx\"\n",
    "    df = pd.read_excel(file_path, header = 0)\n",
    "    return df"
   ]
  },
  {
   "cell_type": "code",
   "execution_count": 72,
   "metadata": {},
   "outputs": [],
   "source": [
    "df = fetch_data()"
   ]
  },
  {
   "cell_type": "code",
   "execution_count": 73,
   "metadata": {},
   "outputs": [],
   "source": [
    "def suggestion(df):\n",
    "    recommendations = []\n",
    "    # 获取需要的指标值\n",
    "    emission_intensity = df[\"Emission_intensities\"].iloc[-1]\n",
    "    energy_consumption_intensity = df[\"Energy_consumption_intensity\"].iloc[-1]\n",
    "    waste_generated = df[\"Waste_generated\"].iloc[-1]\n",
    "    water_intensity = df[\"Water_intensity\"].iloc[-1]\n",
    "    board_independence = df[\"Board_independence\"].iloc[-1]\n",
    "    women_in_management = df[\"Women_in_the_management_team\"].iloc[-1]\n",
    "    women_on_board = df[\"Women_on_the_board\"].iloc[-1]\n",
    "    health_insurance_coverage = df[\"Percentage_of_employees_covered_by_health_insurance\"].iloc[-1]\n",
    "    company_donated = df[\"Company_donated\"].iloc[-1]\n",
    "    training_hours = df[\"Average_training_hours_per_employee\"].iloc[-1]\n",
    "    employee_satisfaction = df[\"Employee_satisfaction_rate\"].iloc[-1]\n",
    "    current_employees_by_age_groups = df[\"Current_employees_by_age_groups\"].iloc[-1]\n",
    "    current_employees_by_gender = df[\"Current_employees_by_gender\"].iloc[-1]\n",
    "    new_hires_by_gender = df[\"New_hires_by_gender\"].iloc[-1]\n",
    "    new_hires_by_age = df[\"New_hires_by_age\"].iloc[-1]\n",
    "    turnover_by_gender = df[\"Turnover_by_gender\"].iloc[-1]\n",
    "    turnover_by_age = df[\"Turnover_by_age\"].iloc[-1]\n",
    "    total_turnover = df[\"Total_turnover\"].iloc[-1]\n",
    "    fatalities = df[\"Fatalities\"].iloc[-1]\n",
    "    high_consequence_injuries = df[\"High_consequence_injuries\"].iloc[-1]\n",
    "    work_related_injuries = df[\"Work_related_injuries\"].iloc[-1]\n",
    "    \n",
    "    recommendations.append(\"The company has issues in the following indicators:\")\n",
    "    if emission_intensity == 0:\n",
    "        recommendations.append(\"If Emission intensities reach 0.18(tCO2e/revenue S$'000), ESG score increases by 0.8 points, revenue increases by 0.66k USD.\")\n",
    "    elif emission_intensity == 25:\n",
    "        recommendations.append(\"If Emission intensities reach 0.14(tCO2e/revenue S$'000), ESG score increases by 0.8 points, revenue increases by 0.66k USD.\")\n",
    "    \n",
    "    if energy_consumption_intensity == 0:\n",
    "        recommendations.append(\"If Energy consumption intensity reach 2.94(MWh/revenue S$'000), ESG score increases by 0.75 points, revenue increases by 0.62k USD.\")\n",
    "    elif energy_consumption_intensity == 25:\n",
    "        recommendations.append(\"If Energy consumption intensity reach 2.35(MWh/revenue S$'000), ESG score increases by 0.75 points, revenue increases by 0.62k USD.\")\n",
    "    \n",
    "    if waste_generated == 0:\n",
    "        recommendations.append(\"If Waste generated reach 508.5(metric ton), ESG score increases by 0.82 points, revenue increases by 0.68k USD.\")\n",
    "    elif waste_generated == 25:\n",
    "        recommendations.append(\"If Waste generated reach 406.8(metric ton), ESG score increases by 0.82 points, revenue increases by 0.68k USD.\")\n",
    "    \n",
    "    if water_intensity == 0:\n",
    "        recommendations.append(\"If Water intensity reach 2.76(Cu M/revenue S$'000), ESG score increases by 0.37 points, revenue increases by 0.31k USD.\")\n",
    "    elif water_intensity == 25:\n",
    "        recommendations.append(\"If Water intensity reach 2.21(Cu M/revenue S$'000), ESG score increases by 0.37 points, revenue increases by 0.31k USD.\")\n",
    "    \n",
    "    if board_independence == 0:\n",
    "        recommendations.append(\"If Board independence reach 30(%), ESG score increases by 0.19 points, revenue increases by 0.15k USD.\")\n",
    "    elif board_independence == 25:\n",
    "        recommendations.append(\"If Board independence reach 48(%), ESG score increases by 0.19 points, revenue increases by 0.15k USD.\")\n",
    "    \n",
    "    if women_in_management == 0:\n",
    "        recommendations.append(\"If Women in the management team reach 21.17(%), ESG score increases by 0.95 points, revenue increases by 0.78k USD.\")\n",
    "    elif women_in_management == 25:\n",
    "        recommendations.append(\"If Women in the management team reach 33.87(%), ESG score increases by 0.95 points, revenue increases by 0.78k USD.\")\n",
    "    \n",
    "    if women_on_board == 0:\n",
    "        recommendations.append(\"If Women on the board reach 14.84(%), ESG score increases by 0.02 points, revenue increases by 0.02k USD.\")\n",
    "    elif women_on_board == 25:\n",
    "        recommendations.append(\"If Women on the board reach 23.74(%), ESG score increases by 0.02 points, revenue increases by 0.02k USD.\")\n",
    "    \n",
    "    if health_insurance_coverage == 0:\n",
    "        recommendations.append(\"If Percentage of employees covered by health insurance reach 50(%), ESG score increases by 0.41 points, revenue increases by 0.34k USD.\")\n",
    "    elif health_insurance_coverage == 25:\n",
    "        recommendations.append(\"If Percentage of employees covered by health insurance reach 80(%), ESG score increases by 0.41 points, revenue increases by 0.34k USD.\")\n",
    "    \n",
    "    if company_donated == 0:\n",
    "        recommendations.append(\"If Company donated reach 233264.13(S$), ESG score increases by 0.07 points, revenue increases by 0.06k USD.\")\n",
    "    elif company_donated == 25:\n",
    "        recommendations.append(\"If Company donated reach 373222.6(S$), ESG score increases by 0.07 points, revenue increases by 0.06k USD.\")\n",
    "    \n",
    "    if training_hours == 0:\n",
    "        recommendations.append(\"If Average training hours per employee reach 13.4(Hours), ESG score increases by 0.86 points, revenue increases by 0.71k USD.\")\n",
    "    elif training_hours == 25:\n",
    "        recommendations.append(\"If Average training hours per employee reach 21.45(Hours), ESG score increases by 0.86 points, revenue increases by 0.71k USD.\")\n",
    "    \n",
    "    if employee_satisfaction == 0:\n",
    "        recommendations.append(\"If Employee satisfaction rate reach 40(%), ESG score increases by 0.47 points, revenue increases by 0.38k USD.\")\n",
    "    elif employee_satisfaction == 25:\n",
    "        recommendations.append(\"If Employee satisfaction rate reach 64(%), ESG score increases by 0.47 points, revenue increases by 0.38k USD.\")\n",
    "    \n",
    "    if current_employees_by_age_groups == 0:\n",
    "        recommendations.append(\"If Current employees by age groups reach 8.93-26.78(%), ESG score increases by 2.2 points, revenue increases by 1.81k USD.\")\n",
    "    elif current_employees_by_age_groups == 50:\n",
    "        recommendations.append(\"If Current employees by age groups reach 14.28-21.42(%), ESG score increases by 2.2 points, revenue increases by 1.81k USD.\")\n",
    "    \n",
    "    if current_employees_by_gender == 0:\n",
    "        recommendations.append(\"If Current employees by gender reach 28.71-86.12(%), ESG score increases by 2.57 points, revenue increases by 2.12k USD.\")\n",
    "    elif current_employees_by_gender == 50:\n",
    "        recommendations.append(\"If Current employees by gender reach 45.93-68.89(%), ESG score increases by 2.57 points, revenue increases by 2.12k USD.\")\n",
    "    \n",
    "    if new_hires_by_gender == 0:\n",
    "        recommendations.append(\"If New hires by gender reach 26.77-80.30(%), ESG score increases by 0.9 points, revenue increases by 0.75k USD.\")\n",
    "    elif new_hires_by_gender == 50:\n",
    "        recommendations.append(\"If New hires by gender reach 42.82-64.24(%), ESG score increases by 0.9 points, revenue increases by 0.75k USD.\")\n",
    "    \n",
    "    if new_hires_by_age == 0:\n",
    "        recommendations.append(\"If New hires by age reach 6.43-19.28(%), ESG score increases by 0.77 points, revenue increases by 0.64k USD.\")\n",
    "    elif new_hires_by_age == 50:\n",
    "        recommendations.append(\"If New hires by age reach 10.28-15.42(%), ESG score increases by 0.77 points, revenue increases by 0.64k USD.\")\n",
    "    \n",
    "    if turnover_by_gender == 0:\n",
    "        recommendations.append(\"If Turnover by gender reach 32.71-98.13(%), ESG score increases by 1.14 points, revenue increases by 0.95k USD.\")\n",
    "    elif turnover_by_gender == 50:\n",
    "        recommendations.append(\"If Turnover by gender reach 52.34-78.50(%), ESG score increases by 1.14 points, revenue increases by 0.95k USD.\")\n",
    "    \n",
    "    if turnover_by_age == 0:\n",
    "        recommendations.append(\"If Turnover by age reach 8.14-24.42(%), ESG score increases by 0.98 points, revenue increases by 0.81k USD.\")\n",
    "    elif turnover_by_age == 50:\n",
    "        recommendations.append(\"If Turnover by age reach 13.02-19.54(%), ESG score increases by 0.98 points, revenue increases by 0.81k USD.\")\n",
    "    \n",
    "    if total_turnover == 0:\n",
    "        recommendations.append(\"If Total turnover reach 0-30(%), ESG score increases by 2.12 points, revenue increases by 1.75k USD.\")\n",
    "    elif total_turnover == 50:\n",
    "        recommendations.append(\"If Total turnover reach 10-20(%), ESG score increases by 2.12 points, revenue increases by 1.75k USD.\")\n",
    "    \n",
    "    if fatalities == 0:\n",
    "        recommendations.append(\"If Fatalities reach 0(number), ESG score increases by 1.71 points, revenue increases by 1.41k USD.\")\n",
    "    elif fatalities == 50:\n",
    "        recommendations.append(\"If Fatalities reach (number), ESG score increases by 1.71 points, revenue increases by 1.41k USD.\")\n",
    "    \n",
    "    if high_consequence_injuries == 0:\n",
    "        recommendations.append(\"If High consequence injuries reach 0(number), ESG score increases by 1.12 points, revenue increases by 0.92k USD.\")\n",
    "    elif high_consequence_injuries == 50:\n",
    "        recommendations.append(\"If High consequence injuries reach (number), ESG score increases by 1.12 points, revenue increases by 0.92k USD.\")\n",
    "    \n",
    "    if work_related_injuries == 0:\n",
    "        recommendations.append(\"If Work related injuries reach 1-2(number), ESG score increases by 2.05 points, revenue increases by 1.69k USD.\")\n",
    "    elif work_related_injuries == 50:\n",
    "        recommendations.append(\"If Work related injuries reach 0(number), ESG score increases by 2.05 points, revenue increases by 1.69k USD.\")\n",
    "\n",
    "    # 返回所有建议作为一个字符串\n",
    "    return \"\\n\".join(recommendations)        "
   ]
  },
  {
   "cell_type": "code",
   "execution_count": 74,
   "metadata": {},
   "outputs": [],
   "source": [
    "app = Dash(__name__)"
   ]
  },
  {
   "cell_type": "code",
   "execution_count": 75,
   "metadata": {},
   "outputs": [],
   "source": [
    "suggestions_text = suggestion(df)\n",
    "\n",
    "app.layout = html.Div([\n",
    "    html.H1(\"ESG Suggestions\", style={'textAlign': 'left', 'marginBottom': '20px'}),\n",
    "    html.Pre(suggestions_text, style={\n",
    "    'font-family': 'Arial', \n",
    "    'font-size': '18px',  \n",
    "    'line-height': '1.5'  \n",
    "})  \n",
    "])"
   ]
  },
  {
   "cell_type": "code",
   "execution_count": 76,
   "metadata": {},
   "outputs": [
    {
     "data": {
      "text/html": [
       "\n",
       "        <iframe\n",
       "            width=\"100%\"\n",
       "            height=\"650\"\n",
       "            src=\"http://127.0.0.1:8074/\"\n",
       "            frameborder=\"0\"\n",
       "            allowfullscreen\n",
       "            \n",
       "        ></iframe>\n",
       "        "
      ],
      "text/plain": [
       "<IPython.lib.display.IFrame at 0x2d568631550>"
      ]
     },
     "metadata": {},
     "output_type": "display_data"
    }
   ],
   "source": [
    "if __name__ == '__main__':\n",
    "    app.run_server(debug = True, port = 8074)"
   ]
  }
 ],
 "metadata": {
  "kernelspec": {
   "display_name": "Python 3",
   "language": "python",
   "name": "python3"
  },
  "language_info": {
   "codemirror_mode": {
    "name": "ipython",
    "version": 3
   },
   "file_extension": ".py",
   "mimetype": "text/x-python",
   "name": "python",
   "nbconvert_exporter": "python",
   "pygments_lexer": "ipython3",
   "version": "3.12.5"
  }
 },
 "nbformat": 4,
 "nbformat_minor": 2
}
