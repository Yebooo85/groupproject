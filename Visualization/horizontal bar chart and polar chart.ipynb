{
 "cells": [
  {
   "cell_type": "code",
   "execution_count": 47,
   "metadata": {},
   "outputs": [],
   "source": [
    "import pandas as pd\n",
    "import numpy as np\n",
    "from dash import Dash, dcc, html, Input, Output\n",
    "import plotly.graph_objects as go"
   ]
  },
  {
   "cell_type": "code",
   "execution_count": 48,
   "metadata": {},
   "outputs": [],
   "source": [
    "\n",
    "def fetch_data():\n",
    "    file_path = \"company_esg_score.xlsx\"  \n",
    "    df = pd.read_excel(file_path, header=0)\n",
    "    return df"
   ]
  },
  {
   "cell_type": "code",
   "execution_count": 49,
   "metadata": {},
   "outputs": [],
   "source": [
    "\n",
    "def determine_esg_level(total_score):\n",
    "    if total_score >= 85.72:\n",
    "        return \"AAA\"\n",
    "    elif total_score >= 71.44:\n",
    "        return \"AA\"\n",
    "    elif total_score >= 57.15:\n",
    "        return \"A\"\n",
    "    elif total_score >= 42.87:\n",
    "        return \"BBB\"\n",
    "    elif total_score >= 28.68:\n",
    "        return \"BB\"\n",
    "    elif total_score >= 14.30:\n",
    "        return \"B\"\n",
    "    else:\n",
    "        return \"CCC\""
   ]
  },
  {
   "cell_type": "code",
   "execution_count": 50,
   "metadata": {},
   "outputs": [],
   "source": [
    "df = fetch_data()\n",
    "e_score = df[\"E Score\"].iloc[-1]\n",
    "s_score = df[\"S Score\"].iloc[-1]\n",
    "g_score = df[\"G Score\"].iloc[-1]"
   ]
  },
  {
   "cell_type": "code",
   "execution_count": 51,
   "metadata": {},
   "outputs": [],
   "source": [
    "# indicators of three polar charts\n",
    "e_metrics = [\"Emission intensities\", \"Energy consumption intensity\", \"Waste generated\", \"Water intensity\"]\n",
    "s_metrics = [\"Average training hours per employee\", \"Current employees by age groups (aged above 50 years old)\",\n",
    "             \"Current employees by gender (female)\", \"Employee satisfaction rate\",\n",
    "             \"New hires by gender (female)\", \"New hires by age (aged above 50 years old)\",\n",
    "             \"Total turnover\", \"Turnover by gender (female)\", \"Turnover by age (aged above 50 years old)\",\n",
    "             \"Fatalities\", \"Percentage of employees covered by health insurance\",\n",
    "             \"High-consequence injuries\", \"Work-related injuries\",  \"Company donated\"]\n",
    "g_metrics = [\"Board independence\", \"Women in the management team\", \"Women on the board\"]"
   ]
  },
  {
   "cell_type": "code",
   "execution_count": 52,
   "metadata": {},
   "outputs": [],
   "source": [
    "# horizontal bar chart of e_score, s_score and g_score\n",
    "def create_bar_chart(e_score, s_score, g_score):\n",
    "    fig_bar = go.Figure()\n",
    "    fig_bar.add_trace(go.Bar(\n",
    "        x = [e_score, s_score, g_score],\n",
    "        y = [\"Environment\", \"Social\", \"Governance\"],\n",
    "        marker = dict(color = \"lightgreen\"),\n",
    "        orientation = \"h\"\n",
    "))\n",
    "    return fig_bar"
   ]
  },
  {
   "cell_type": "code",
   "execution_count": 53,
   "metadata": {},
   "outputs": [],
   "source": [
    "# polar chart of indicators\n",
    "def create_polar_chart(values, metrics, title):\n",
    "    sorted_data = sorted(zip(values, metrics), reverse=True)\n",
    "    sorted_values, sorted_metrics = zip(*sorted_data)\n",
    "    fig = go.Figure(go.Barpolar(\n",
    "        r = values,\n",
    "        theta = metrics,\n",
    "        marker = dict(\n",
    "            color = values,\n",
    "            colorscale = \"Greens\",  \n",
    "            cmin = 0,\n",
    "            cmax = max(values),\n",
    "            line = dict(color = \"darkgreen\", width = 1)  \n",
    "        ),\n",
    "        text = metrics,\n",
    "        hoverinfo = \"text+r\"\n",
    "    ))\n",
    "\n",
    "    fig.update_layout(\n",
    "        title = title,\n",
    "        polar = dict(\n",
    "            radialaxis = dict(visible = True, range = [0, max(values)], showticklabels = False),  \n",
    "            angularaxis = dict(showline = False, tickfont = dict(size=12), showticklabels = False)  \n",
    "        ),\n",
    "        showlegend = False\n",
    "    )\n",
    "    return fig"
   ]
  },
  {
   "cell_type": "code",
   "execution_count": 54,
   "metadata": {},
   "outputs": [],
   "source": [
    "# Create a Dash app\n",
    "app = Dash(__name__)"
   ]
  },
  {
   "cell_type": "code",
   "execution_count": 55,
   "metadata": {},
   "outputs": [],
   "source": [
    "app.layout = html.Div([\n",
    "    dcc.Graph(id = \"polar-e-chart\"),  \n",
    "    dcc.Graph(id = \"polar-s-chart\"),  \n",
    "    dcc.Graph(id = \"polar-g-chart\"),  \n",
    "    dcc.Graph(id = \"bar-chart\"),  \n",
    "    dcc.Input(id = \"dummy-input\", type = \"hidden\", value = \"dummy\")  \n",
    "])"
   ]
  },
  {
   "cell_type": "code",
   "execution_count": 56,
   "metadata": {},
   "outputs": [],
   "source": [
    "@app.callback(\n",
    "    [Output(\"polar-e-chart\", \"figure\"),\n",
    "     Output(\"polar-s-chart\", \"figure\"),\n",
    "     Output(\"polar-g-chart\", \"figure\"),\n",
    "     Output(\"bar-chart\", \"figure\")],\n",
    "     Input(\"dummy-input\", \"value\")\n",
    ")\n",
    "\n",
    "def update_charts(selected_metric):\n",
    "    df = fetch_data()  \n",
    "    e_score = df[\"E Score\"].iloc[-1]\n",
    "    s_score = df[\"S Score\"].iloc[-1]\n",
    "    g_score = df[\"G Score\"].iloc[-1]\n",
    "    \n",
    "    bar_fig = create_bar_chart(e_score, s_score, g_score)\n",
    "    \n",
    "     # Polar chart of environment indicators\n",
    "    e_values = [df[m].iloc[-1] for m in e_metrics]\n",
    "    polar_e_fig = create_polar_chart(e_values, e_metrics, \"Environment Metrics\")\n",
    "\n",
    "    # Polar chart of social indicators\n",
    "    s_values = [df[m].iloc[-1] for m in s_metrics]\n",
    "    polar_s_fig = create_polar_chart(s_values, s_metrics, \"Social Metrics\")\n",
    "\n",
    "    # Polar chart of governance indicators\n",
    "    g_values = [df[m].iloc[-1] for m in g_metrics]\n",
    "    polar_g_fig = create_polar_chart(g_values, g_metrics, \"Governance Metrics\")\n",
    "    \n",
    "    return polar_e_fig, polar_s_fig, polar_g_fig, bar_fig"
   ]
  },
  {
   "cell_type": "code",
   "execution_count": 57,
   "metadata": {},
   "outputs": [
    {
     "data": {
      "text/html": [
       "\n",
       "        <iframe\n",
       "            width=\"100%\"\n",
       "            height=\"650\"\n",
       "            src=\"http://127.0.0.1:8059/\"\n",
       "            frameborder=\"0\"\n",
       "            allowfullscreen\n",
       "            \n",
       "        ></iframe>\n",
       "        "
      ],
      "text/plain": [
       "<IPython.lib.display.IFrame at 0x2433f59c7a0>"
      ]
     },
     "metadata": {},
     "output_type": "display_data"
    }
   ],
   "source": [
    "if __name__ == '__main__':\n",
    "    app.run_server(debug = True, port = 8059)"
   ]
  }
 ],
 "metadata": {
  "kernelspec": {
   "display_name": "Python 3",
   "language": "python",
   "name": "python3"
  },
  "language_info": {
   "codemirror_mode": {
    "name": "ipython",
    "version": 3
   },
   "file_extension": ".py",
   "mimetype": "text/x-python",
   "name": "python",
   "nbconvert_exporter": "python",
   "pygments_lexer": "ipython3",
   "version": "3.12.5"
  }
 },
 "nbformat": 4,
 "nbformat_minor": 2
}
