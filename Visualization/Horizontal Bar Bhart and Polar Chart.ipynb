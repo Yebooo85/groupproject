{
 "cells": [
  {
   "cell_type": "code",
   "execution_count": 12,
   "metadata": {},
   "outputs": [],
   "source": [
    "import pandas as pd\n",
    "import numpy as np\n",
    "from dash import Dash, dcc, html, Input, Output\n",
    "import plotly.graph_objects as go"
   ]
  },
  {
   "cell_type": "code",
   "execution_count": 13,
   "metadata": {},
   "outputs": [],
   "source": [
    "def fetch_data():\n",
    "    file_path = \"companies_esg_scores.xlsx\"  \n",
    "    df = pd.read_excel(file_path, header=0)\n",
    "    return df"
   ]
  },
  {
   "cell_type": "code",
   "execution_count": 14,
   "metadata": {},
   "outputs": [],
   "source": [
    "df = fetch_data()\n",
    "e_score = df[\"E_Score\"].iloc[-1]\n",
    "s_score = df[\"S_Score\"].iloc[-1]\n",
    "g_score = df[\"G_Score\"].iloc[-1]"
   ]
  },
  {
   "cell_type": "code",
   "execution_count": 15,
   "metadata": {},
   "outputs": [],
   "source": [
    "e_metrics = [\"Emission_intensities\", \"Energy_consumption_intensity\", \"Waste_generated\", \"Water_intensity\"]\n",
    "s_metrics = [\"Average_training_hours_per_employee\", \"Current_employees_by_age_groups\", \"Current_employees_by_gender\",\n",
    "             \"Employee_satisfaction_rate\", \"New_hires_by_gender\", \"New_hires_by_age\",\n",
    "             \"Total_turnover\", \"Turnover_by_gender\", \"Turnover_by_age\", \"Fatalities\",\n",
    "             \"Percentage_of_employees_covered_by_health_insurance\", \"High_consequence_injuries\",\n",
    "             \"Work_related_injuries\", \"Company_donated\"]\n",
    "g_metrics = [\"Board_independence\", \"Women_in_the_management_team\", \"Women_on_the_board\"]"
   ]
  },
  {
   "cell_type": "code",
   "execution_count": 16,
   "metadata": {},
   "outputs": [],
   "source": [
    "# Horizontal bar chart of e_score, s_score and g_score\n",
    "def create_bar_chart(e_score, s_score, g_score):\n",
    "    fig_bar = go.Figure()\n",
    "    fig_bar.add_trace(go.Bar(\n",
    "        x = [e_score, s_score, g_score],\n",
    "        y = [\"Environment\", \"Social\", \"Governance\"],\n",
    "        marker = dict(color = \"lightgreen\"),\n",
    "        orientation = \"h\"\n",
    "))\n",
    "    return fig_bar"
   ]
  },
  {
   "cell_type": "code",
   "execution_count": 17,
   "metadata": {},
   "outputs": [],
   "source": [
    "# Polar chart of indicators\n",
    "def create_polar_chart(values, metrics, title):\n",
    "    sorted_data = sorted(zip(values, metrics), reverse=True)\n",
    "    sorted_values, sorted_metrics = zip(*sorted_data)\n",
    "    fig = go.Figure(go.Barpolar(\n",
    "        r = values,\n",
    "        theta = metrics,\n",
    "        marker = dict(\n",
    "            color = values,\n",
    "            colorscale = \"Greens\",  \n",
    "            cmin = 0,\n",
    "            cmax = max(values),\n",
    "            line = dict(color = \"darkgreen\", width = 1)  \n",
    "        ),\n",
    "        text = metrics,\n",
    "        hoverinfo = \"text+r\"\n",
    "    ))\n",
    "\n",
    "    fig.update_layout(\n",
    "        title = title,\n",
    "        polar = dict(\n",
    "            radialaxis = dict(visible = True, range = [0, max(values)], showticklabels = False),  \n",
    "            angularaxis = dict(showline = False, tickfont = dict(size=12), showticklabels = False)  \n",
    "        ),\n",
    "        showlegend = False\n",
    "    )\n",
    "    return fig"
   ]
  },
  {
   "cell_type": "code",
   "execution_count": 18,
   "metadata": {},
   "outputs": [],
   "source": [
    "# Create a Dash app\n",
    "app = Dash(__name__)"
   ]
  },
  {
   "cell_type": "code",
   "execution_count": 19,
   "metadata": {},
   "outputs": [],
   "source": [
    "app.layout = html.Div([\n",
    "    dcc.Graph(id = \"polar-e-chart\"),  \n",
    "    dcc.Graph(id = \"polar-s-chart\"),  \n",
    "    dcc.Graph(id = \"polar-g-chart\"),  \n",
    "    dcc.Graph(id = \"bar-chart\"),  \n",
    "    dcc.Input(id = \"dummy-input\", type = \"hidden\", value = \"dummy\")  \n",
    "])"
   ]
  },
  {
   "cell_type": "code",
   "execution_count": 20,
   "metadata": {},
   "outputs": [],
   "source": [
    "@app.callback(\n",
    "    [Output(\"polar-e-chart\", \"figure\"),\n",
    "     Output(\"polar-s-chart\", \"figure\"),\n",
    "     Output(\"polar-g-chart\", \"figure\"),\n",
    "     Output(\"bar-chart\", \"figure\")],\n",
    "     Input(\"dummy-input\", \"value\")\n",
    ")\n",
    "\n",
    "def update_charts(selected_metric):\n",
    "    df = fetch_data()  \n",
    "    e_score = df[\"E_Score\"].iloc[-1]\n",
    "    s_score = df[\"S_Score\"].iloc[-1]\n",
    "    g_score = df[\"G_Score\"].iloc[-1]\n",
    "    \n",
    "    bar_fig = create_bar_chart(e_score, s_score, g_score)\n",
    "    \n",
    "     # Polar chart of environment indicators\n",
    "    e_values = [df[m].iloc[-1] for m in e_metrics]\n",
    "    polar_e_fig = create_polar_chart(e_values, e_metrics, \"Environment Metrics\")\n",
    "\n",
    "    # Polar chart of social indicators\n",
    "    s_values = [df[m].iloc[-1] for m in s_metrics]\n",
    "    polar_s_fig = create_polar_chart(s_values, s_metrics, \"Social Metrics\")\n",
    "\n",
    "    # Polar chart of governance indicators\n",
    "    g_values = [df[m].iloc[-1] for m in g_metrics]\n",
    "    polar_g_fig = create_polar_chart(g_values, g_metrics, \"Governance Metrics\")\n",
    "    \n",
    "    return polar_e_fig, polar_s_fig, polar_g_fig, bar_fig"
   ]
  },
  {
   "cell_type": "code",
   "execution_count": 21,
   "metadata": {},
   "outputs": [
    {
     "data": {
      "text/html": [
       "\n",
       "        <iframe\n",
       "            width=\"100%\"\n",
       "            height=\"650\"\n",
       "            src=\"http://127.0.0.1:8059/\"\n",
       "            frameborder=\"0\"\n",
       "            allowfullscreen\n",
       "            \n",
       "        ></iframe>\n",
       "        "
      ],
      "text/plain": [
       "<IPython.lib.display.IFrame at 0x2482c750740>"
      ]
     },
     "metadata": {},
     "output_type": "display_data"
    }
   ],
   "source": [
    "if __name__ == '__main__':\n",
    "    app.run_server(debug = True, port = 8059)"
   ]
  }
 ],
 "metadata": {
  "kernelspec": {
   "display_name": "Python 3",
   "language": "python",
   "name": "python3"
  },
  "language_info": {
   "codemirror_mode": {
    "name": "ipython",
    "version": 3
   },
   "file_extension": ".py",
   "mimetype": "text/x-python",
   "name": "python",
   "nbconvert_exporter": "python",
   "pygments_lexer": "ipython3",
   "version": "3.12.5"
  }
 },
 "nbformat": 4,
 "nbformat_minor": 2
}
