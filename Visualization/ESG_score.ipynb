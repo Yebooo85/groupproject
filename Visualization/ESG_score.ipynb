{
 "cells": [
  {
   "cell_type": "code",
   "execution_count": 186,
   "metadata": {},
   "outputs": [],
   "source": [
    "import pandas as pd\n",
    "from dash import Dash, dcc, html, Input, Output\n",
    "import plotly.graph_objects as go"
   ]
  },
  {
   "cell_type": "code",
   "execution_count": 187,
   "metadata": {},
   "outputs": [],
   "source": [
    "def fetch_data():\n",
    "    file_path = \"company_esg_score.xlsx\"\n",
    "    df = pd.read_excel(file_path, header =0)\n",
    "    return df"
   ]
  },
  {
   "cell_type": "code",
   "execution_count": 188,
   "metadata": {},
   "outputs": [],
   "source": [
    "df = fetch_data()"
   ]
  },
  {
   "cell_type": "code",
   "execution_count": 189,
   "metadata": {},
   "outputs": [],
   "source": [
    "app = Dash(__name__)"
   ]
  },
  {
   "cell_type": "code",
   "execution_count": 190,
   "metadata": {},
   "outputs": [],
   "source": [
    "total_score = df['Total Score'].iloc[-1]"
   ]
  },
  {
   "cell_type": "code",
   "execution_count": 191,
   "metadata": {},
   "outputs": [],
   "source": [
    "def determine_esg_level(total_score):\n",
    "    if total_score >= 85.72:\n",
    "        return \"AAA\"\n",
    "    elif total_score >= 71.44:\n",
    "        return \"AA\"\n",
    "    elif total_score >= 57.15:\n",
    "        return \"A\"\n",
    "    elif total_score >= 42.87:\n",
    "        return \"BBB\"\n",
    "    elif total_score >= 28.68:\n",
    "        return \"BB\"\n",
    "    elif total_score >= 14.30:\n",
    "        return \"B\"\n",
    "    else:\n",
    "        return \"CCC\""
   ]
  },
  {
   "cell_type": "code",
   "execution_count": 192,
   "metadata": {},
   "outputs": [],
   "source": [
    "def create_gauge(total_score):\n",
    "    fig_gauge = go.Figure(go.Indicator(\n",
    "        mode = \"gauge+number+delta\",\n",
    "        value = total_score,\n",
    "        title = {'text': \"ESG Score\"},\n",
    "        gauge = {\n",
    "            'axis': {'range': [0, 100]},\n",
    "            'steps': [\n",
    "                {'range': [0, 40], 'color': \"white\"},\n",
    "                {'range': [40, 60], 'color': \"lightgreen\"},\n",
    "                {'range': [60, 80], 'color': \"limegreen\"},\n",
    "                {'range': [80, 100], 'color': \"green\"},\n",
    "            ],\n",
    "        },\n",
    "    ))\n",
    "    return fig_gauge\n"
   ]
  },
  {
   "cell_type": "code",
   "execution_count": 193,
   "metadata": {},
   "outputs": [],
   "source": [
    "@app.callback(\n",
    "    [Output('gauge-chart', 'figure'),\n",
    "     Output('esg-level-text', 'children')],  \n",
    "    Input('dummy-input', 'value')\n",
    ")\n",
    "def update_charts(dummy_value):\n",
    "    df = fetch_data()\n",
    "    total_score = df['Total Score'].iloc[-1]\n",
    "    \n",
    "    esg_level = determine_esg_level(total_score)\n",
    "    \n",
    "    gauge_fig = create_gauge(total_score)\n",
    "    \n",
    "    return gauge_fig, f\"Industry rating: {esg_level}\"  \n",
    "\n",
    "app.layout = html.Div([\n",
    "    dcc.Graph(id = 'gauge-chart'),\n",
    "    dcc.Input(id = 'dummy-input', type = 'hidden', value = 'dummy'),\n",
    "    html.Div([\n",
    "        html.P(id = 'esg-level-text', style = {\n",
    "            'fontSize': '24px',  \n",
    "            'textAlign': 'center', \n",
    "            'color': 'green',\n",
    "            'position': 'relative',  \n",
    "            'top': '-30px',\n",
    "            'lineHeight': '1',    \n",
    "            'marginTop': '0',     \n",
    "            'marginBottom': '0',  \n",
    "            'paddingTop': '0'     \n",
    "        })\n",
    "    ])\n",
    "])"
   ]
  },
  {
   "cell_type": "code",
   "execution_count": 194,
   "metadata": {},
   "outputs": [
    {
     "data": {
      "text/html": [
       "\n",
       "        <iframe\n",
       "            width=\"100%\"\n",
       "            height=\"650\"\n",
       "            src=\"http://127.0.0.1:8073/\"\n",
       "            frameborder=\"0\"\n",
       "            allowfullscreen\n",
       "            \n",
       "        ></iframe>\n",
       "        "
      ],
      "text/plain": [
       "<IPython.lib.display.IFrame at 0x21daccf9310>"
      ]
     },
     "metadata": {},
     "output_type": "display_data"
    }
   ],
   "source": [
    "if __name__ == '__main__':\n",
    "    app.run_server(debug = True, port = 8073)"
   ]
  }
 ],
 "metadata": {
  "kernelspec": {
   "display_name": "Python 3",
   "language": "python",
   "name": "python3"
  },
  "language_info": {
   "codemirror_mode": {
    "name": "ipython",
    "version": 3
   },
   "file_extension": ".py",
   "mimetype": "text/x-python",
   "name": "python",
   "nbconvert_exporter": "python",
   "pygments_lexer": "ipython3",
   "version": "3.12.5"
  }
 },
 "nbformat": 4,
 "nbformat_minor": 2
}
